{
 "cells": [
  {
   "cell_type": "code",
   "execution_count": 1,
   "metadata": {},
   "outputs": [
    {
     "name": "stderr",
     "output_type": "stream",
     "text": [
      "/home/shaktisocity/anaconda2/lib/python2.7/site-packages/sklearn/cross_validation.py:44: DeprecationWarning: This module was deprecated in version 0.18 in favor of the model_selection module into which all the refactored classes and functions are moved. Also note that the interface of the new CV iterators are different from that of this module. This module will be removed in 0.20.\n",
      "  \"This module will be removed in 0.20.\", DeprecationWarning)\n"
     ]
    }
   ],
   "source": [
    "import pandas\n",
    "from sklearn.cross_validation import train_test_split\n",
    "from sklearn.metrics import accuracy_score\n",
    "from sklearn.metrics import classification_report\n",
    "from sklearn import datasets\n",
    "import numpy as np\n",
    "import time\n",
    "import numpy as np\n",
    "from sklearn.externals import joblib\n",
    "import recommenders as recommenders\n",
    "import cPickle as pickle\n",
    "import requests,json"
   ]
  },
  {
   "cell_type": "code",
   "execution_count": 2,
   "metadata": {
    "collapsed": true
   },
   "outputs": [],
   "source": [
    "data =  pandas.read_csv('data.csv')"
   ]
  },
  {
   "cell_type": "code",
   "execution_count": 3,
   "metadata": {},
   "outputs": [
    {
     "data": {
      "text/html": [
       "<div>\n",
       "<style>\n",
       "    .dataframe thead tr:only-child th {\n",
       "        text-align: right;\n",
       "    }\n",
       "\n",
       "    .dataframe thead th {\n",
       "        text-align: left;\n",
       "    }\n",
       "\n",
       "    .dataframe tbody tr th {\n",
       "        vertical-align: top;\n",
       "    }\n",
       "</style>\n",
       "<table border=\"1\" class=\"dataframe\">\n",
       "  <thead>\n",
       "    <tr style=\"text-align: right;\">\n",
       "      <th></th>\n",
       "      <th>_id</th>\n",
       "      <th>users_name</th>\n",
       "      <th>article_id</th>\n",
       "      <th>interests</th>\n",
       "      <th>rating</th>\n",
       "    </tr>\n",
       "  </thead>\n",
       "  <tbody>\n",
       "    <tr>\n",
       "      <th>0</th>\n",
       "      <td>f1002103409903859</td>\n",
       "      <td>pragyakaul</td>\n",
       "      <td>article-sasta-sunder-aur-tikau-these-are-the-b...</td>\n",
       "      <td>foodAndNightlife | events | shopping | travel ...</td>\n",
       "      <td>2.00</td>\n",
       "    </tr>\n",
       "    <tr>\n",
       "      <th>1</th>\n",
       "      <td>f1002103409903859</td>\n",
       "      <td>pragyakaul</td>\n",
       "      <td>article-chefs-signature-is-our-go-to-kebab-kio...</td>\n",
       "      <td>foodAndNightlife | events | shopping | travel ...</td>\n",
       "      <td>1.25</td>\n",
       "    </tr>\n",
       "    <tr>\n",
       "      <th>2</th>\n",
       "      <td>f1003129143080714</td>\n",
       "      <td>umeshyadav</td>\n",
       "      <td>artcile-shop-til-you-drop-delhis-winter-sales-...</td>\n",
       "      <td>foodAndNightlife | events | shopping | travel ...</td>\n",
       "      <td>0.75</td>\n",
       "    </tr>\n",
       "    <tr>\n",
       "      <th>3</th>\n",
       "      <td>f1003129143080714</td>\n",
       "      <td>umeshyadav</td>\n",
       "      <td>article-   shop-til-you-drop-delhis-winter-sal...</td>\n",
       "      <td>foodAndNightlife | events | shopping | travel ...</td>\n",
       "      <td>0.00</td>\n",
       "    </tr>\n",
       "    <tr>\n",
       "      <th>4</th>\n",
       "      <td>f1003129143080714</td>\n",
       "      <td>umeshyadav</td>\n",
       "      <td>article-aw-snap!-no-camels-at-republic-day-par...</td>\n",
       "      <td>foodAndNightlife | events | shopping | travel ...</td>\n",
       "      <td>0.75</td>\n",
       "    </tr>\n",
       "  </tbody>\n",
       "</table>\n",
       "</div>"
      ],
      "text/plain": [
       "                 _id  users_name  \\\n",
       "0  f1002103409903859  pragyakaul   \n",
       "1  f1002103409903859  pragyakaul   \n",
       "2  f1003129143080714  umeshyadav   \n",
       "3  f1003129143080714  umeshyadav   \n",
       "4  f1003129143080714  umeshyadav   \n",
       "\n",
       "                                          article_id  \\\n",
       "0  article-sasta-sunder-aur-tikau-these-are-the-b...   \n",
       "1  article-chefs-signature-is-our-go-to-kebab-kio...   \n",
       "2  artcile-shop-til-you-drop-delhis-winter-sales-...   \n",
       "3  article-   shop-til-you-drop-delhis-winter-sal...   \n",
       "4  article-aw-snap!-no-camels-at-republic-day-par...   \n",
       "\n",
       "                                           interests  rating  \n",
       "0  foodAndNightlife | events | shopping | travel ...    2.00  \n",
       "1  foodAndNightlife | events | shopping | travel ...    1.25  \n",
       "2  foodAndNightlife | events | shopping | travel ...    0.75  \n",
       "3  foodAndNightlife | events | shopping | travel ...    0.00  \n",
       "4  foodAndNightlife | events | shopping | travel ...    0.75  "
      ]
     },
     "execution_count": 3,
     "metadata": {},
     "output_type": "execute_result"
    }
   ],
   "source": [
    "data.head()"
   ]
  },
  {
   "cell_type": "code",
   "execution_count": 4,
   "metadata": {
    "collapsed": true
   },
   "outputs": [],
   "source": [
    "users = data['_id'].unique()"
   ]
  },
  {
   "cell_type": "code",
   "execution_count": 5,
   "metadata": {},
   "outputs": [
    {
     "data": {
      "text/plain": [
       "3223"
      ]
     },
     "execution_count": 5,
     "metadata": {},
     "output_type": "execute_result"
    }
   ],
   "source": [
    "len(users)"
   ]
  },
  {
   "cell_type": "code",
   "execution_count": 6,
   "metadata": {
    "collapsed": true
   },
   "outputs": [],
   "source": [
    "train_data, test_data = train_test_split(data, test_size = 0.20, random_state=0)"
   ]
  },
  {
   "cell_type": "code",
   "execution_count": 7,
   "metadata": {},
   "outputs": [
    {
     "data": {
      "text/html": [
       "<div>\n",
       "<style>\n",
       "    .dataframe thead tr:only-child th {\n",
       "        text-align: right;\n",
       "    }\n",
       "\n",
       "    .dataframe thead th {\n",
       "        text-align: left;\n",
       "    }\n",
       "\n",
       "    .dataframe tbody tr th {\n",
       "        vertical-align: top;\n",
       "    }\n",
       "</style>\n",
       "<table border=\"1\" class=\"dataframe\">\n",
       "  <thead>\n",
       "    <tr style=\"text-align: right;\">\n",
       "      <th></th>\n",
       "      <th>_id</th>\n",
       "      <th>users_name</th>\n",
       "      <th>article_id</th>\n",
       "      <th>interests</th>\n",
       "      <th>rating</th>\n",
       "    </tr>\n",
       "  </thead>\n",
       "  <tbody>\n",
       "    <tr>\n",
       "      <th>7596</th>\n",
       "      <td>f1217876828277924</td>\n",
       "      <td>kokilachadha</td>\n",
       "      <td>article-nehru-park-chanakyapuri</td>\n",
       "      <td>foodAndNightlife | events | shopping | travel ...</td>\n",
       "      <td>1.25</td>\n",
       "    </tr>\n",
       "    <tr>\n",
       "      <th>8779</th>\n",
       "      <td>f1317912408250924</td>\n",
       "      <td>gargipandey</td>\n",
       "      <td>article-artsy-furniture-illustrated-trays-cush...</td>\n",
       "      <td>music | peopleAndCommunities | events | entert...</td>\n",
       "      <td>1.25</td>\n",
       "    </tr>\n",
       "    <tr>\n",
       "      <th>16131</th>\n",
       "      <td>g103178180465939809199</td>\n",
       "      <td>nikitagoyal1</td>\n",
       "      <td>article-running-bungee-paintball-archery-and-l...</td>\n",
       "      <td>foodAndNightlife | events | shopping | travel ...</td>\n",
       "      <td>0.75</td>\n",
       "    </tr>\n",
       "    <tr>\n",
       "      <th>25869</th>\n",
       "      <td>g117749003204035066161</td>\n",
       "      <td>parupanwar</td>\n",
       "      <td>article-theres-a-brand-new-eatery-in-khan-mark...</td>\n",
       "      <td>foodAndNightlife | events | shopping | travel ...</td>\n",
       "      <td>0.75</td>\n",
       "    </tr>\n",
       "    <tr>\n",
       "      <th>7518</th>\n",
       "      <td>f1212638982110832</td>\n",
       "      <td>varunbansal2</td>\n",
       "      <td>article-sprawled-in-the-aravallis-the-tree-of-...</td>\n",
       "      <td>foodAndNightlife | events | shopping | travel ...</td>\n",
       "      <td>1.25</td>\n",
       "    </tr>\n",
       "  </tbody>\n",
       "</table>\n",
       "</div>"
      ],
      "text/plain": [
       "                          _id    users_name  \\\n",
       "7596        f1217876828277924  kokilachadha   \n",
       "8779        f1317912408250924   gargipandey   \n",
       "16131  g103178180465939809199  nikitagoyal1   \n",
       "25869  g117749003204035066161    parupanwar   \n",
       "7518        f1212638982110832  varunbansal2   \n",
       "\n",
       "                                              article_id  \\\n",
       "7596                     article-nehru-park-chanakyapuri   \n",
       "8779   article-artsy-furniture-illustrated-trays-cush...   \n",
       "16131  article-running-bungee-paintball-archery-and-l...   \n",
       "25869  article-theres-a-brand-new-eatery-in-khan-mark...   \n",
       "7518   article-sprawled-in-the-aravallis-the-tree-of-...   \n",
       "\n",
       "                                               interests  rating  \n",
       "7596   foodAndNightlife | events | shopping | travel ...    1.25  \n",
       "8779   music | peopleAndCommunities | events | entert...    1.25  \n",
       "16131  foodAndNightlife | events | shopping | travel ...    0.75  \n",
       "25869  foodAndNightlife | events | shopping | travel ...    0.75  \n",
       "7518   foodAndNightlife | events | shopping | travel ...    1.25  "
      ]
     },
     "execution_count": 7,
     "metadata": {},
     "output_type": "execute_result"
    }
   ],
   "source": [
    "train_data.head()"
   ]
  },
  {
   "cell_type": "code",
   "execution_count": 8,
   "metadata": {
    "collapsed": true
   },
   "outputs": [],
   "source": [
    "pm =recommenders.popular_recommendation()\n",
    "pm.create(data,'users_name', 'article_id' )"
   ]
  },
  {
   "cell_type": "code",
   "execution_count": 9,
   "metadata": {
    "collapsed": true
   },
   "outputs": [],
   "source": [
    "pickle.dump(pm,open(\"pm.pkl\",\"wb\"))"
   ]
  },
  {
   "cell_type": "code",
   "execution_count": 10,
   "metadata": {
    "collapsed": true
   },
   "outputs": [],
   "source": [
    "popularity_recommendation=pickle.load(open(\"pm.pkl\",\"rb\"))"
   ]
  },
  {
   "cell_type": "code",
   "execution_count": 11,
   "metadata": {},
   "outputs": [
    {
     "data": {
      "text/html": [
       "<div>\n",
       "<style>\n",
       "    .dataframe thead tr:only-child th {\n",
       "        text-align: right;\n",
       "    }\n",
       "\n",
       "    .dataframe thead th {\n",
       "        text-align: left;\n",
       "    }\n",
       "\n",
       "    .dataframe tbody tr th {\n",
       "        vertical-align: top;\n",
       "    }\n",
       "</style>\n",
       "<table border=\"1\" class=\"dataframe\">\n",
       "  <thead>\n",
       "    <tr style=\"text-align: right;\">\n",
       "      <th></th>\n",
       "      <th>user_id</th>\n",
       "      <th>article_id</th>\n",
       "      <th>Ratings</th>\n",
       "      <th>Rank</th>\n",
       "    </tr>\n",
       "  </thead>\n",
       "  <tbody>\n",
       "    <tr>\n",
       "      <th>875</th>\n",
       "      <td>f10154272638856551</td>\n",
       "      <td>article-bookmark-this-now-here-s-10-places-to-...</td>\n",
       "      <td>58</td>\n",
       "      <td>1.0</td>\n",
       "    </tr>\n",
       "    <tr>\n",
       "      <th>879</th>\n",
       "      <td>f10154272638856551</td>\n",
       "      <td>article-bookmarkthis-delhis-8-most-underrated-...</td>\n",
       "      <td>57</td>\n",
       "      <td>2.0</td>\n",
       "    </tr>\n",
       "    <tr>\n",
       "      <th>2488</th>\n",
       "      <td>f10154272638856551</td>\n",
       "      <td>article-high-atop-the-world-below-these-are-th...</td>\n",
       "      <td>53</td>\n",
       "      <td>3.0</td>\n",
       "    </tr>\n",
       "    <tr>\n",
       "      <th>44</th>\n",
       "      <td>f10154272638856551</td>\n",
       "      <td>article-10-super-romantic-hideouts-from-delhi-...</td>\n",
       "      <td>51</td>\n",
       "      <td>4.0</td>\n",
       "    </tr>\n",
       "    <tr>\n",
       "      <th>138</th>\n",
       "      <td>f10154272638856551</td>\n",
       "      <td>article-6-places-to-wolf-down-the-biggest-badd...</td>\n",
       "      <td>51</td>\n",
       "      <td>5.0</td>\n",
       "    </tr>\n",
       "    <tr>\n",
       "      <th>1987</th>\n",
       "      <td>f10154272638856551</td>\n",
       "      <td>article-from-66-flavours-of-chuskis-to-40-type...</td>\n",
       "      <td>50</td>\n",
       "      <td>6.0</td>\n",
       "    </tr>\n",
       "    <tr>\n",
       "      <th>1128</th>\n",
       "      <td>f10154272638856551</td>\n",
       "      <td>article-chocolate-shehenshah-shake-afghani-san...</td>\n",
       "      <td>49</td>\n",
       "      <td>7.0</td>\n",
       "    </tr>\n",
       "    <tr>\n",
       "      <th>1205</th>\n",
       "      <td>f10154272638856551</td>\n",
       "      <td>article-comfy-couches-heaps-of-books-coffee-we...</td>\n",
       "      <td>49</td>\n",
       "      <td>8.0</td>\n",
       "    </tr>\n",
       "    <tr>\n",
       "      <th>49</th>\n",
       "      <td>f10154272638856551</td>\n",
       "      <td>article-11-all-purpose-adorable-stationery-sto...</td>\n",
       "      <td>47</td>\n",
       "      <td>9.0</td>\n",
       "    </tr>\n",
       "    <tr>\n",
       "      <th>996</th>\n",
       "      <td>f10154272638856551</td>\n",
       "      <td>article-call-yourself-a-true-blue-delhite-here...</td>\n",
       "      <td>47</td>\n",
       "      <td>10.0</td>\n",
       "    </tr>\n",
       "  </tbody>\n",
       "</table>\n",
       "</div>"
      ],
      "text/plain": [
       "                 user_id                                         article_id  \\\n",
       "875   f10154272638856551  article-bookmark-this-now-here-s-10-places-to-...   \n",
       "879   f10154272638856551  article-bookmarkthis-delhis-8-most-underrated-...   \n",
       "2488  f10154272638856551  article-high-atop-the-world-below-these-are-th...   \n",
       "44    f10154272638856551  article-10-super-romantic-hideouts-from-delhi-...   \n",
       "138   f10154272638856551  article-6-places-to-wolf-down-the-biggest-badd...   \n",
       "1987  f10154272638856551  article-from-66-flavours-of-chuskis-to-40-type...   \n",
       "1128  f10154272638856551  article-chocolate-shehenshah-shake-afghani-san...   \n",
       "1205  f10154272638856551  article-comfy-couches-heaps-of-books-coffee-we...   \n",
       "49    f10154272638856551  article-11-all-purpose-adorable-stationery-sto...   \n",
       "996   f10154272638856551  article-call-yourself-a-true-blue-delhite-here...   \n",
       "\n",
       "      Ratings  Rank  \n",
       "875        58   1.0  \n",
       "879        57   2.0  \n",
       "2488       53   3.0  \n",
       "44         51   4.0  \n",
       "138        51   5.0  \n",
       "1987       50   6.0  \n",
       "1128       49   7.0  \n",
       "1205       49   8.0  \n",
       "49         47   9.0  \n",
       "996        47  10.0  "
      ]
     },
     "execution_count": 11,
     "metadata": {},
     "output_type": "execute_result"
    }
   ],
   "source": [
    "popularity_recommendation.recommend(users[75])"
   ]
  },
  {
   "cell_type": "code",
   "execution_count": 41,
   "metadata": {},
   "outputs": [
    {
     "name": "stdout",
     "output_type": "stream",
     "text": [
      "[{u'result': u'article-hyatt-just-unveiled-an-all-new-hotel-for-delhi-called-andaz-heres-the-dope'}, {u'result:2': u'article-head-on-over-to-the-newly-opened-cafe-sufiana-andaaz-in-amar-colony-for-a-free-sheesha'}]\n"
     ]
    }
   ],
   "source": [
    "url=\"http://localhost:5000/predict\"\n",
    "_id = 'f10154272638856551'\n",
    "data =json.dumps({'user_id':_id})\n",
    "r=requests.post(url,data)\n",
    "print(r.json())"
   ]
  },
  {
   "cell_type": "code",
   "execution_count": null,
   "metadata": {
    "collapsed": true
   },
   "outputs": [],
   "source": []
  },
  {
   "cell_type": "code",
   "execution_count": 103,
   "metadata": {},
   "outputs": [],
   "source": [
    "# b=[\"article-giving-us-major-chettinad-chicken-cravings-heres-baani-squares-coastal-reef\", \"article-47-degrees-and-counting-severe-heat-wave-cripples-delhi-and-how\", \"article-the-ss-trunk-show-is-about-to-hit-the-town-heres-why-were-super-psyched\", \"article-delving-into-the-tale-of-the-dadi-poti-tombs-tucked-away-in-a-remote-corner-of-green-park\", \"article-jalsas-magnificent-collection-of-established-up-and-coming-designers-will-make-your-july-jolly\", \"article-drum-down-the-sun-a-ddc-jam-session-at-cha-bar\", \"article-for-gobbling-up-boatfuls-of-pan-asian-delicacies-order-up-from-bamboo-boat-in-ggn\", \"article-gear-up-all-you-lovely-brides-to-be-wedding-asia-2016-is-about-to-arrive-we-cant-keep-calm\", \"article-happily-laden-with-everything-under-the-sun-heres-the-good-life-exhibition-by-lifespacein\", \"article-dancing-up-a-storm-with-the-immensely-talented-founder-of-artistic-athletes-arushi-chawla\"]"
   ]
  },
  {
   "cell_type": "code",
   "execution_count": 10,
   "metadata": {},
   "outputs": [
    {
     "data": {
      "text/html": [
       "<div>\n",
       "<style>\n",
       "    .dataframe thead tr:only-child th {\n",
       "        text-align: right;\n",
       "    }\n",
       "\n",
       "    .dataframe thead th {\n",
       "        text-align: left;\n",
       "    }\n",
       "\n",
       "    .dataframe tbody tr th {\n",
       "        vertical-align: top;\n",
       "    }\n",
       "</style>\n",
       "<table border=\"1\" class=\"dataframe\">\n",
       "  <thead>\n",
       "    <tr style=\"text-align: right;\">\n",
       "      <th></th>\n",
       "      <th>user_id</th>\n",
       "      <th>article_id</th>\n",
       "      <th>Ratings</th>\n",
       "      <th>Rank</th>\n",
       "    </tr>\n",
       "  </thead>\n",
       "  <tbody>\n",
       "    <tr>\n",
       "      <th>847</th>\n",
       "      <td>f10154355574465998</td>\n",
       "      <td>article-bookmark-this-now-here-s-10-places-to-...</td>\n",
       "      <td>49</td>\n",
       "      <td>1.0</td>\n",
       "    </tr>\n",
       "    <tr>\n",
       "      <th>851</th>\n",
       "      <td>f10154355574465998</td>\n",
       "      <td>article-bookmarkthis-delhis-8-most-underrated-...</td>\n",
       "      <td>49</td>\n",
       "      <td>2.0</td>\n",
       "    </tr>\n",
       "    <tr>\n",
       "      <th>132</th>\n",
       "      <td>f10154355574465998</td>\n",
       "      <td>article-6-places-to-wolf-down-the-biggest-badd...</td>\n",
       "      <td>44</td>\n",
       "      <td>3.0</td>\n",
       "    </tr>\n",
       "    <tr>\n",
       "      <th>1162</th>\n",
       "      <td>f10154355574465998</td>\n",
       "      <td>article-comfy-couches-heaps-of-books-coffee-we...</td>\n",
       "      <td>44</td>\n",
       "      <td>4.0</td>\n",
       "    </tr>\n",
       "    <tr>\n",
       "      <th>1090</th>\n",
       "      <td>f10154355574465998</td>\n",
       "      <td>article-chocolate-shehenshah-shake-afghani-san...</td>\n",
       "      <td>43</td>\n",
       "      <td>5.0</td>\n",
       "    </tr>\n",
       "    <tr>\n",
       "      <th>2391</th>\n",
       "      <td>f10154355574465998</td>\n",
       "      <td>article-high-atop-the-world-below-these-are-th...</td>\n",
       "      <td>43</td>\n",
       "      <td>6.0</td>\n",
       "    </tr>\n",
       "    <tr>\n",
       "      <th>43</th>\n",
       "      <td>f10154355574465998</td>\n",
       "      <td>article-11-all-purpose-adorable-stationery-sto...</td>\n",
       "      <td>41</td>\n",
       "      <td>7.0</td>\n",
       "    </tr>\n",
       "    <tr>\n",
       "      <th>1918</th>\n",
       "      <td>f10154355574465998</td>\n",
       "      <td>article-from-66-flavours-of-chuskis-to-40-type...</td>\n",
       "      <td>41</td>\n",
       "      <td>8.0</td>\n",
       "    </tr>\n",
       "    <tr>\n",
       "      <th>38</th>\n",
       "      <td>f10154355574465998</td>\n",
       "      <td>article-10-super-romantic-hideouts-from-delhi-...</td>\n",
       "      <td>40</td>\n",
       "      <td>9.0</td>\n",
       "    </tr>\n",
       "    <tr>\n",
       "      <th>963</th>\n",
       "      <td>f10154355574465998</td>\n",
       "      <td>article-call-yourself-a-true-blue-delhite-here...</td>\n",
       "      <td>38</td>\n",
       "      <td>10.0</td>\n",
       "    </tr>\n",
       "  </tbody>\n",
       "</table>\n",
       "</div>"
      ],
      "text/plain": [
       "                 user_id                                         article_id  \\\n",
       "847   f10154355574465998  article-bookmark-this-now-here-s-10-places-to-...   \n",
       "851   f10154355574465998  article-bookmarkthis-delhis-8-most-underrated-...   \n",
       "132   f10154355574465998  article-6-places-to-wolf-down-the-biggest-badd...   \n",
       "1162  f10154355574465998  article-comfy-couches-heaps-of-books-coffee-we...   \n",
       "1090  f10154355574465998  article-chocolate-shehenshah-shake-afghani-san...   \n",
       "2391  f10154355574465998  article-high-atop-the-world-below-these-are-th...   \n",
       "43    f10154355574465998  article-11-all-purpose-adorable-stationery-sto...   \n",
       "1918  f10154355574465998  article-from-66-flavours-of-chuskis-to-40-type...   \n",
       "38    f10154355574465998  article-10-super-romantic-hideouts-from-delhi-...   \n",
       "963   f10154355574465998  article-call-yourself-a-true-blue-delhite-here...   \n",
       "\n",
       "      Ratings  Rank  \n",
       "847        49   1.0  \n",
       "851        49   2.0  \n",
       "132        44   3.0  \n",
       "1162       44   4.0  \n",
       "1090       43   5.0  \n",
       "2391       43   6.0  \n",
       "43         41   7.0  \n",
       "1918       41   8.0  \n",
       "38         40   9.0  \n",
       "963        38  10.0  "
      ]
     },
     "execution_count": 10,
     "metadata": {},
     "output_type": "execute_result"
    }
   ],
   "source": [
    "user_id = users[85]\n",
    "pm.recommend(user_id)"
   ]
  },
  {
   "cell_type": "code",
   "execution_count": null,
   "metadata": {
    "collapsed": true
   },
   "outputs": [],
   "source": []
  }
 ],
 "metadata": {
  "kernelspec": {
   "display_name": "Python 2",
   "language": "python",
   "name": "python2"
  },
  "language_info": {
   "codemirror_mode": {
    "name": "ipython",
    "version": 2
   },
   "file_extension": ".py",
   "mimetype": "text/x-python",
   "name": "python",
   "nbconvert_exporter": "python",
   "pygments_lexer": "ipython2",
   "version": "2.7.13"
  }
 },
 "nbformat": 4,
 "nbformat_minor": 2
}
